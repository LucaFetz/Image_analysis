{
 "cells": [
  {
   "cell_type": "markdown",
   "metadata": {},
   "source": [
    "# [IAPR 2019:][iapr2019] Lab 2 ‒  Object description\n",
    "\n",
    "**Author:** Luca Fetz & Mohammed-Ismail Ben Salah \n",
    "**Due date:** 19.04.2019\n",
    "\n",
    "[iapr2019]: https://github.com/LTS5/iapr-2019"
   ]
  },
  {
   "cell_type": "markdown",
   "metadata": {},
   "source": [
    "## Extract relevant data\n",
    "We first need to extract the `lab-02-data.tar.gz` archive.\n",
    "To this end, we use the [tarfile] module from the Python standard library.\n",
    "\n",
    "[tarfile]: https://docs.python.org/3.6/library/tarfile.html"
   ]
  },
  {
   "cell_type": "code",
   "execution_count": 2,
   "metadata": {},
   "outputs": [],
   "source": [
    "import tarfile\n",
    "import os\n",
    "\n",
    "data_base_path = os.path.join(os.pardir, 'data')\n",
    "data_folder = 'lab-02-data'\n",
    "tar_path = os.path.join(data_base_path, data_folder + '.tar.gz')\n",
    "with tarfile.open(tar_path, mode='r:gz') as tar:\n",
    "    tar.extractall(path=data_base_path)"
   ]
  },
  {
   "cell_type": "markdown",
   "metadata": {},
   "source": [
    "## Description\n",
    "In the `lab-02-data/` folder, you will find 28x28 grey-scale pictures of handwritten \"0\" and \"1\".\n",
    "These digits have been extracted from MNIST dataset (http://yann.lecun.com/exdb/mnist/).\n",
    "\n",
    "Your goal is to extract, from each of those images, a 2-dimensional feature vector (i.e. 2 features) and to plot them all on a 2D graph.\n",
    "If you have chosen good features, the vectors of the \"0\"'s should nicely cluster in one part of the plane and those of the \"1\"'s in another.\n",
    "\n",
    "Please try first the Fourier Descriptors.\n",
    "You can make several attempts: e.g. with and without invariance to rotation, translation, scaling, etc.\n",
    "You can also for instance rotate the images and assess the invariance in rotation.\n",
    "\n",
    "**Note:** for the Fourier descriptors, the u_k signal has to be constructed by following the contour point after point.\n",
    "Some pre-processing (image binarization, possibly some Mathematical Morphology) might be useful.\n",
    "\n",
    "Then feel free to try other features, the more you try, the better it will be (for you)."
   ]
  },
  {
   "cell_type": "markdown",
   "metadata": {},
   "source": [
    "### 1.1 Data visualization"
   ]
  },
  {
   "cell_type": "code",
   "execution_count": 3,
   "metadata": {},
   "outputs": [
    {
     "data": {
      "image/png": "[encoded data removed]",
      "text/plain": [
       "<Figure size 864x216 with 20 Axes>"
      ]
     },
     "metadata": {
      "needs_background": "light"
     },
     "output_type": "display_data"
    }
   ],
   "source": [
    "import skimage.io\n",
    "import matplotlib.pyplot as plt\n",
    "%matplotlib inline\n",
    "\n",
    "# Load images\n",
    "data_base_path = os.path.join(os.pardir, 'data')\n",
    "data_folder = 'lab-02-data'\n",
    "#  Load zeros\n",
    "zeros_path = os.path.join(data_base_path, data_folder, '0')\n",
    "zeros_names = [nm for nm in os.listdir(zeros_path) if '.png' in nm]  # make sure to only load .png\n",
    "zeros_names.sort()  # sort file names\n",
    "ic = skimage.io.imread_collection([os.path.join(zeros_path, nm) for nm in zeros_names])\n",
    "zeros_im = skimage.io.concatenate_images(ic)\n",
    "#  Load ones\n",
    "ones_path = os.path.join(data_base_path, data_folder, '1')\n",
    "ones_names = [nm for nm in os.listdir(ones_path) if '.png' in nm]  # make sure to only load .png\n",
    "ones_names.sort()  # sort file names\n",
    "ic = skimage.io.imread_collection(([os.path.join(ones_path, nm) for nm in ones_names]))\n",
    "ones_im = skimage.io.concatenate_images(ic)\n",
    "\n",
    "# Plot images\n",
    "fig, axes = plt.subplots(2, len(zeros_im), figsize=(12, 3))\n",
    "for ax, im, nm in zip(axes[0], zeros_im, zeros_names):\n",
    "    ax.imshow(im, cmap='gray')\n",
    "    ax.axis('off')\n",
    "    ax.set_title(nm)\n",
    "for ax, im, nm in zip(axes[1], ones_im, ones_names):\n",
    "    ax.imshow(im, cmap='gray')\n",
    "    ax.axis('off')\n",
    "    ax.set_title(nm)"
   ]
  },
  {
   "cell_type": "markdown",
   "metadata": {},
   "source": [
    "### 1.2 Fourier descriptors\n",
    "Add your implementation and discussion\n",
    "look at slides 22 to 30 in lecture 4\n",
    "\n",
    "good ideas:\n",
    "binarize and apply fourier on every white point\n",
    "\n",
    "use non maximum suppression/morphological skeleton and use fourier on the skeleton\n",
    "\n",
    "less good ideas:\n",
    "apply snake and apply fourier on contour\n",
    "\n",
    "only keep frontier and apply fourier here"
   ]
  },
  {
   "cell_type": "code",
   "execution_count": 29,
   "metadata": {},
   "outputs": [
    {
     "name": "stdout",
     "output_type": "stream",
     "text": [
      "(10, 28, 28)\n"
     ]
    },
    {
     "data": {
      "image/png": "[encoded data removed]",
      "text/plain": [
       "<Figure size 864x216 with 20 Axes>"
      ]
     },
     "metadata": {
      "needs_background": "light"
     },
     "output_type": "display_data"
    }
   ],
   "source": [
    "# u_k = x_k + j y_k\n",
    "#from scipy.fftpack import fft, ifft\n",
    "#\n",
    "#fft(zeros_im[0]);\n",
    "\n",
    "#extract number of images and number of pixels\n",
    "print(zeros_im.shape)\n",
    "N_images, N,tmp = zeros_im.shape\n",
    "nb_contour = \n",
    "#binarize images and count number of points to be in descriptor\n",
    "thres = 200\n",
    "zeros_im_bin = zeros_im.copy()\n",
    "for i in range(0,N_images):\n",
    "    for j in range(0,N):\n",
    "        for k in range(0,N):\n",
    "            if zeros_im_bin[i][j,k] > thres:\n",
    "                zeros_im_bin[i][j,k] = 255\n",
    "            else:\n",
    "                zeros_im_bin[i][j,k] = 0\n",
    "                \n",
    "ones_im_bin = ones_im.copy()\n",
    "for i in range(0,N_images):\n",
    "    for j in range(0,N):\n",
    "        for k in range(0,N):\n",
    "            if ones_im_bin[i][j,k] > thres:\n",
    "                ones_im_bin[i][j,k] = 255\n",
    "            else:\n",
    "                ones_im_bin[i][j,k] = 0\n",
    "\n",
    "#visualize binarization\n",
    "fig, axes = plt.subplots(2, len(zeros_im), figsize=(12, 3))\n",
    "for ax, im, nm in zip(axes[0], zeros_im_bin, zeros_names):\n",
    "    ax.imshow(im, cmap='gray')\n",
    "    ax.axis('off')\n",
    "    ax.set_title(nm)\n",
    "for ax, im, nm in zip(axes[1], ones_im_bin, ones_names):\n",
    "    ax.imshow(im, cmap='gray')\n",
    "    ax.axis('off')\n",
    "    ax.set_title(nm)\n",
    "\n",
    "#count number of pixels in \n",
    "#apply fourier descriptors on white pixels\n",
    "\n",
    "for i in range(0,N_images):\n",
    "    for j in range(0,N):\n",
    "        for k in range(0,N):\n",
    "            if zeros_im_bin[i][j,k] == 255:\n",
    "                "
   ]
  },
  {
   "cell_type": "code",
   "execution_count": 30,
   "metadata": {},
   "outputs": [
    {
     "name": "stdout",
     "output_type": "stream",
     "text": [
      "[[  0   0   0   0   0   0   0   0   0   0   0   0   0   0   0   0   0   0\n",
      "    0   0   0   0   0   0   0   0   0   0]\n",
      " [  0   0   0   0   0   0   0   0   0   0   0   0   0   0   0   0   0   0\n",
      "    0   0   0   0   0   0   0   0   0   0]\n",
      " [  0   0   0   0   0   0   0   0   0   0   0   0   0   0   0   0   0   0\n",
      "    0   0   0   0   0   0   0   0   0   0]\n",
      " [  0   0   0   0   0   0   0   0   0   0   0   0   0   0   0   0   0   0\n",
      "    0   0   0   0   0   0   0   0   0   0]\n",
      " [  0   0   0   0   0   0   0   0   0   0   0   0   0   0   0   0   0   0\n",
      "    0   0   0   0   0   0   0   0   0   0]\n",
      " [  0   0   0   0   0   0   0   0   0   0   0   0   0   0  62  91 213 255\n",
      "  228  91  12   0   0   0   0   0   0   0]\n",
      " [  0   0   0   0   0   0   0   0   0   0   0   0   0  70 230 253 253 253\n",
      "  253 253 152   7   0   0   0   0   0   0]\n",
      " [  0   0   0   0   0   0   0   0   0   0   0   0   0 246 253 253 253 253\n",
      "  253 253 253 106   0   0   0   0   0   0]\n",
      " [  0   0   0   0   0   0   0   0   0   0   0   0  21 247 253 253 253 253\n",
      "  253 253 208  24   0   0   0   0   0   0]\n",
      " [  0   0   0   0   0   0   0   0   0   0   0   0 156 253 253 253 253 253\n",
      "  253 253 195   0   0   0   0   0   0   0]\n",
      " [  0   0   0   0   0   0   0   0   0   0   0  88 238 253 253 253 221 253\n",
      "  253 253 195   0   0   0   0   0   0   0]\n",
      " [  0   0   0   0   0   0   0   0   0   0   0 230 253 253 253 198  40 177\n",
      "  253 253 195   0   0   0   0   0   0   0]\n",
      " [  0   0   0   0   0   0   0   0   0  56 156 251 253 189 182  15   0  86\n",
      "  240 253 210  28   0   0   0   0   0   0]\n",
      " [  0   0   0   0   0   0   0   0   0 213 253 253 156   3   0   0   0   0\n",
      "  205 253 253 106   0   0   0   0   0   0]\n",
      " [  0   0   0   0   0   0   0   0 121 252 253 135   3   0   0   0   0   0\n",
      "   46 253 253 106   0   0   0   0   0   0]\n",
      " [  0   0   0   0   0   0   0  28 212 253 248  23   0   0   0   0   0   0\n",
      "   42 253 253 106   0   0   0   0   0   0]\n",
      " [  0   0   0   0   0   0   0 197 253 234  70   0   0   0   0   0   0   0\n",
      "   42 253 253 106   0   0   0   0   0   0]\n",
      " [  0   0   0   0   0   0  11 202 253 187   0   0   0   0   0   0   0   0\n",
      "   58 253 210  27   0   0   0   0   0   0]\n",
      " [  0   0   0   0   0   0 107 253 253  40   0   0   0   0   0   0   0  53\n",
      "  227 253 195   0   0   0   0   0   0   0]\n",
      " [  0   0   0   0   0   0 107 253 253  40   0   0   0   0   0   0  47 227\n",
      "  253 231  58   0   0   0   0   0   0   0]\n",
      " [  0   0   0   0   0   0 107 253 253  40   0   0   0   0   5 131 222 253\n",
      "  231  59   0   0   0   0   0   0   0   0]\n",
      " [  0   0   0   0   0   0  14 204 253 226 222  73  58  58 170 253 253 227\n",
      "   58   0   0   0   0   0   0   0   0   0]\n",
      " [  0   0   0   0   0   0   0 197 253 253 253 253 253 253 253 253 238  58\n",
      "    0   0   0   0   0   0   0   0   0   0]\n",
      " [  0   0   0   0   0   0   0  33 179 241 253 253 253 253 250 116  14   0\n",
      "    0   0   0   0   0   0   0   0   0   0]\n",
      " [  0   0   0   0   0   0   0   0   0  75 179 253 151  89  86   0   0   0\n",
      "    0   0   0   0   0   0   0   0   0   0]\n",
      " [  0   0   0   0   0   0   0   0   0   0   0   0   0   0   0   0   0   0\n",
      "    0   0   0   0   0   0   0   0   0   0]\n",
      " [  0   0   0   0   0   0   0   0   0   0   0   0   0   0   0   0   0   0\n",
      "    0   0   0   0   0   0   0   0   0   0]\n",
      " [  0   0   0   0   0   0   0   0   0   0   0   0   0   0   0   0   0   0\n",
      "    0   0   0   0   0   0   0   0   0   0]]\n"
     ]
    }
   ],
   "source": [
    "test = zeros_im.copy()\n",
    "print(test[0])"
   ]
  },
  {
   "cell_type": "markdown",
   "metadata": {},
   "source": [
    "### 1.3 Additional method(s)\n",
    "Add your implementation and discussion"
   ]
  },
  {
   "cell_type": "code",
   "execution_count": null,
   "metadata": {},
   "outputs": [],
   "source": []
  }
 ],
 "metadata": {
  "kernelspec": {
   "display_name": "Python 3",
   "language": "python",
   "name": "python3"
  },
  "language_info": {
   "codemirror_mode": {
    "name": "ipython",
    "version": 3
   },
   "file_extension": ".py",
   "mimetype": "text/x-python",
   "name": "python",
   "nbconvert_exporter": "python",
   "pygments_lexer": "ipython3",
   "version": "3.6.8"
  }
 },
 "nbformat": 4,
 "nbformat_minor": 2
}
