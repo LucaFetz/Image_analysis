{
 "cells": [
  {
   "cell_type": "markdown",
   "metadata": {},
   "source": [
    "# [IAPR 2019:][iapr2019] Lab 2 ‒  Object description\n",
    "\n",
    "**Author:** Luca Fetz & Mohammed-Ismail Ben Salah \n",
    "**Due date:** 19.04.2019\n",
    "\n",
    "[iapr2019]: https://github.com/LTS5/iapr-2019"
   ]
  },
  {
   "cell_type": "markdown",
   "metadata": {},
   "source": [
    "## Extract relevant data\n",
    "We first need to extract the `lab-02-data.tar.gz` archive.\n",
    "To this end, we use the [tarfile] module from the Python standard library.\n",
    "\n",
    "[tarfile]: https://docs.python.org/3.6/library/tarfile.html"
   ]
  },
  {
   "cell_type": "code",
   "execution_count": 2,
   "metadata": {},
   "outputs": [],
   "source": [
    "import tarfile\n",
    "import os\n",
    "\n",
    "data_base_path = os.path.join(os.pardir, 'data')\n",
    "data_folder = 'lab-02-data'\n",
    "tar_path = os.path.join(data_base_path, data_folder + '.tar.gz')\n",
    "with tarfile.open(tar_path, mode='r:gz') as tar:\n",
    "    tar.extractall(path=data_base_path)"
   ]
  },
  {
   "cell_type": "markdown",
   "metadata": {},
   "source": [
    "## Description\n",
    "In the `lab-02-data/` folder, you will find 28x28 grey-scale pictures of handwritten \"0\" and \"1\".\n",
    "These digits have been extracted from MNIST dataset (http://yann.lecun.com/exdb/mnist/).\n",
    "\n",
    "Your goal is to extract, from each of those images, a 2-dimensional feature vector (i.e. 2 features) and to plot them all on a 2D graph.\n",
    "If you have chosen good features, the vectors of the \"0\"'s should nicely cluster in one part of the plane and those of the \"1\"'s in another.\n",
    "\n",
    "Please try first the Fourier Descriptors.\n",
    "You can make several attempts: e.g. with and without invariance to rotation, translation, scaling, etc.\n",
    "You can also for instance rotate the images and assess the invariance in rotation.\n",
    "\n",
    "**Note:** for the Fourier descriptors, the u_k signal has to be constructed by following the contour point after point.\n",
    "Some pre-processing (image binarization, possibly some Mathematical Morphology) might be useful.\n",
    "\n",
    "Then feel free to try other features, the more you try, the better it will be (for you)."
   ]
  },
  {
   "cell_type": "markdown",
   "metadata": {},
   "source": [
    "### 1.1 Data visualization"
   ]
  },
  {
   "cell_type": "code",
   "execution_count": 3,
   "metadata": {},
   "outputs": [
    {
     "data": {
      "image/png": "[encoded data removed]",
      "text/plain": [
       "<Figure size 864x216 with 20 Axes>"
      ]
     },
     "metadata": {
      "needs_background": "light"
     },
     "output_type": "display_data"
    }
   ],
   "source": [
    "import skimage.io\n",
    "import matplotlib.pyplot as plt\n",
    "%matplotlib inline\n",
    "\n",
    "# Load images\n",
    "data_base_path = os.path.join(os.pardir, 'data')\n",
    "data_folder = 'lab-02-data'\n",
    "#  Load zeros\n",
    "zeros_path = os.path.join(data_base_path, data_folder, '0')\n",
    "zeros_names = [nm for nm in os.listdir(zeros_path) if '.png' in nm]  # make sure to only load .png\n",
    "zeros_names.sort()  # sort file names\n",
    "ic = skimage.io.imread_collection([os.path.join(zeros_path, nm) for nm in zeros_names])\n",
    "zeros_im = skimage.io.concatenate_images(ic)\n",
    "#  Load ones\n",
    "ones_path = os.path.join(data_base_path, data_folder, '1')\n",
    "ones_names = [nm for nm in os.listdir(ones_path) if '.png' in nm]  # make sure to only load .png\n",
    "ones_names.sort()  # sort file names\n",
    "ic = skimage.io.imread_collection(([os.path.join(ones_path, nm) for nm in ones_names]))\n",
    "ones_im = skimage.io.concatenate_images(ic)\n",
    "\n",
    "# Plot images\n",
    "fig, axes = plt.subplots(2, len(zeros_im), figsize=(12, 3))\n",
    "for ax, im, nm in zip(axes[0], zeros_im, zeros_names):\n",
    "    ax.imshow(im, cmap='gray')\n",
    "    ax.axis('off')\n",
    "    ax.set_title(nm)\n",
    "for ax, im, nm in zip(axes[1], ones_im, ones_names):\n",
    "    ax.imshow(im, cmap='gray')\n",
    "    ax.axis('off')\n",
    "    ax.set_title(nm)"
   ]
  },
  {
   "cell_type": "markdown",
   "metadata": {},
   "source": [
    "### 1.2 Fourier descriptors\n",
    "Add your implementation and discussion\n",
    "look at slides 22 to 30 in lecture 4\n",
    "\n",
    "good ideas:\n",
    "binarize and apply fourier on every white point\n",
    "\n",
    "use non maximum suppression/morphological skeleton and use fourier on the skeleton\n",
    "\n",
    "less good ideas:\n",
    "apply snake and apply fourier on contour\n",
    "\n",
    "only keep frontier and apply fourier here"
   ]
  },
  {
   "cell_type": "code",
   "execution_count": 135,
   "metadata": {},
   "outputs": [
    {
     "data": {
      "image/png": "[encoded data removed]",
      "text/plain": [
       "<Figure size 864x216 with 20 Axes>"
      ]
     },
     "metadata": {
      "needs_background": "light"
     },
     "output_type": "display_data"
    },
    {
     "data": {
      "image/png": "[encoded data removed]",
      "text/plain": [
       "<Figure size 432x432 with 1 Axes>"
      ]
     },
     "metadata": {
      "needs_background": "light"
     },
     "output_type": "display_data"
    }
   ],
   "source": [
    "# u_k = x_k + j y_k\n",
    "#from scipy.fftpack import fft, ifft\n",
    "#\n",
    "#fft(zeros_im[0]);\n",
    "import numpy as np\n",
    "import skimage.measure as mes\n",
    "\n",
    "#extract number of images and number of pixels\n",
    "N_images, N,tmp = zeros_im.shape\n",
    "\n",
    "\n",
    "#binarize images and count number of points to be in descriptor\n",
    "thres = 230\n",
    "zeros_im_bin = zeros_im.copy()\n",
    "for i in range(0,N_images):\n",
    "    for j in range(0,N):\n",
    "        for k in range(0,N):\n",
    "            if zeros_im_bin[i][j,k] > thres:\n",
    "                zeros_im_bin[i][j,k] = 255\n",
    "            else:\n",
    "                zeros_im_bin[i][j,k] = 0\n",
    "                \n",
    "ones_im_bin = ones_im.copy()\n",
    "for i in range(0,N_images):\n",
    "    for j in range(0,N):\n",
    "        for k in range(0,N):\n",
    "            if ones_im_bin[i][j,k] > thres:\n",
    "                ones_im_bin[i][j,k] = 255\n",
    "            else:\n",
    "                ones_im_bin[i][j,k] = 0\n",
    "\n",
    "#visualize binarization\n",
    "fig, axes = plt.subplots(2, len(zeros_im), figsize=(12, 3))\n",
    "for ax, im, nm in zip(axes[0], zeros_im_bin, zeros_names):\n",
    "    ax.imshow(im, cmap='gray')\n",
    "    ax.axis('off')\n",
    "    ax.set_title(nm)\n",
    "for ax, im, nm in zip(axes[1], ones_im_bin, ones_names):\n",
    "    ax.imshow(im, cmap='gray')\n",
    "    ax.axis('off')\n",
    "    ax.set_title(nm)\n",
    "\n",
    "#contour_zeros will be a list of lists of ndarrayw with the coordinates of the contour\n",
    "#access it with contour_zeros[im_idx,arra_idx,]\n",
    "contour_zeros = []\n",
    "contour_ones = []\n",
    "for i in range(0,N_images):\n",
    "    contour_zeros.append(mes.find_contours(zeros_im_bin[i], 128, fully_connected='high', positive_orientation='low'))\n",
    "    contour_ones.append(mes.find_contours(ones_im_bin[i], 128, fully_connected='high', positive_orientation='low'))\n",
    "    \n",
    "zeros_contour_im = np.zeros((N_images,N,N))\n",
    "ones_contour_im = np.zeros((N_images,N,N))\n",
    "for j in range(0,N_images):\n",
    "    for i in range(0,len(contour_zeros[j][0])):\n",
    "        zeros_contour_im[j,int(round(contour_zeros[j][0][i,0])),int(round(contour_zeros[j][0][i,1]))] = 255\n",
    "    for i in range(0,len(contour_ones[j][0])):\n",
    "        ones_contour_im[j,int(round(contour_ones[j][0][i,0])),int(round(contour_ones[j][0][i,1]))] = 255\n",
    "\n",
    "#visualize one contour\n",
    "fig, ax = plt.subplots(1, 1, figsize=(6, 6))\n",
    "ax.imshow(zeros_contour_im[0], cmap='gray')\n",
    "ax.axis('off')\n",
    "plt.show()\n",
    "\n",
    "#take the smallest contour and downsample the others with scipy.signal.decimate\n",
    "\n",
    "#when all contours are the same size, take fft \n",
    "\n",
    "#plot ffts"
   ]
  },
  {
   "cell_type": "code",
   "execution_count": 147,
   "metadata": {},
   "outputs": [
    {
     "name": "stdout",
     "output_type": "stream",
     "text": [
      "71\n"
     ]
    }
   ],
   "source": [
    "nb_contour = np.zeros((N_images,N_images),np.uint)\n",
    "print(len(contour_zeros[1][0]))\n"
   ]
  },
  {
   "cell_type": "markdown",
   "metadata": {},
   "source": [
    "### 1.3 Additional method(s)\n",
    "Add your implementation and discussion"
   ]
  },
  {
   "cell_type": "code",
   "execution_count": null,
   "metadata": {},
   "outputs": [],
   "source": []
  }
 ],
 "metadata": {
  "kernelspec": {
   "display_name": "Python 3",
   "language": "python",
   "name": "python3"
  },
  "language_info": {
   "codemirror_mode": {
    "name": "ipython",
    "version": 3
   },
   "file_extension": ".py",
   "mimetype": "text/x-python",
   "name": "python",
   "nbconvert_exporter": "python",
   "pygments_lexer": "ipython3",
   "version": "3.6.8"
  }
 },
 "nbformat": 4,
 "nbformat_minor": 2
}
