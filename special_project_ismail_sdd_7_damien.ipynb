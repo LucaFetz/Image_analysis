{
 "cells": [
  {
   "cell_type": "markdown",
   "metadata": {},
   "source": [
    "## Part 3: Using MLP and CNNs\n",
    "\n",
    "Add your implementation for the third part. Feel free to add your desirable functions, but please make sure you have proper functions for the final detection, where their input and output follows the same format as the previous parts."
   ]
  },
  {
   "cell_type": "code",
   "execution_count": 9,
   "metadata": {},
   "outputs": [],
   "source": [
    "from keras.optimizers import Adam\n",
    "from keras.callbacks import ModelCheckpoint, EarlyStopping, ReduceLROnPlateau, TerminateOnNaN, CSVLogger\n",
    "from keras import backend as K\n",
    "from keras.models import load_model\n",
    "from math import ceil\n",
    "import numpy as np\n",
    "from matplotlib import pyplot as plt\n",
    "\n",
    "from models.keras_ssd7 import build_model\n",
    "from keras_loss_function.keras_ssd_loss import SSDLoss\n",
    "from keras_layers.keras_layer_AnchorBoxes import AnchorBoxes\n",
    "from keras_layers.keras_layer_DecodeDetections import DecodeDetections\n",
    "from keras_layers.keras_layer_DecodeDetectionsFast import DecodeDetectionsFast\n",
    "\n",
    "from ssd_encoder_decoder.ssd_input_encoder import SSDInputEncoder\n",
    "from ssd_encoder_decoder.ssd_output_decoder import decode_detections, decode_detections_fast\n",
    "\n",
    "from data_generator.object_detection_2d_data_generator import DataGenerator\n",
    "from data_generator.object_detection_2d_misc_utils import apply_inverse_transforms\n",
    "from data_generator.data_augmentation_chain_variable_input_size import DataAugmentationVariableInputSize\n",
    "from data_generator.data_augmentation_chain_constant_input_size import DataAugmentationConstantInputSize\n",
    "from data_generator.data_augmentation_chain_original_ssd import SSDDataAugmentation\n",
    "\n",
    "from ssd_encoder_decoder.ssd_input_encoder import SSDInputEncoder\n",
    "from ssd_encoder_decoder.ssd_output_decoder import decode_detections, decode_detections_fast\n",
    "\n",
    "from data_generator.object_detection_2d_data_generator import DataGenerator\n",
    "from data_generator.object_detection_2d_geometric_ops import Resize\n",
    "from data_generator.object_detection_2d_photometric_ops import ConvertTo3Channels\n",
    "from data_generator.data_augmentation_chain_original_ssd import SSDDataAugmentation\n",
    "from data_generator.object_detection_2d_misc_utils import apply_inverse_transforms\n",
    "\n",
    "%matplotlib inline"
   ]
  },
  {
   "cell_type": "code",
   "execution_count": 10,
   "metadata": {
    "scrolled": true
   },
   "outputs": [
    {
     "name": "stdout",
     "output_type": "stream",
     "text": [
      "Processing image set 'train.txt': 100%|█████████████████████████████████████████████| 800/800 [00:02<00:00, 307.56it/s]\n",
      "Processing image set 'validation.txt': 100%|████████████████████████████████████████| 150/150 [00:00<00:00, 301.39it/s]\n"
     ]
    }
   ],
   "source": [
    "train_dataset = DataGenerator(load_images_into_memory=False, hdf5_dataset_path=None)\n",
    "val_dataset = DataGenerator(load_images_into_memory=False, hdf5_dataset_path=None)\n",
    "\n",
    "# The directories that contain the images.\n",
    "varroa_train_images_dir  = '../datasets/project-data/images/train/'\n",
    "varroa_test_images_dir   = '../datasets/project-data/images/test/'\n",
    "varroa_val_images_dir    = '../datasets/project-data/images/validation/'\n",
    "\n",
    "\n",
    "# The directories that contain the annotations.\n",
    "varroa_train_annotations_dir = '../datasets/project-data/annotations/train/'\n",
    "varroa_test_annotations_dir  = '../datasets/project-data/annotations/test/'\n",
    "varroa_val_annotations_dir   = '../datasets/project-data/annotations/validation/'\n",
    "\n",
    "\n",
    "# The paths to the image sets.\n",
    "varroa_train_image_set_filename = '../datasets/project-data/train.txt'\n",
    "varroa_test_image_set_filename  = '../datasets/project-data/test.txt'\n",
    "varroa_val_image_set_filename   = '../datasets/project-data/validation.txt'\n",
    "\n",
    "\n",
    "\n",
    "# The XML parser needs to now what object class names to look for and in which order to map them to integers.\n",
    "classes = ['background',\n",
    "           'Varroa']\n",
    "\n",
    "\n",
    "train_dataset.parse_xml(images_dirs=[varroa_train_images_dir],\n",
    "                        image_set_filenames=[varroa_train_image_set_filename],\n",
    "                        annotations_dirs=[varroa_train_annotations_dir],\n",
    "                        classes=classes,\n",
    "                        include_classes='all',\n",
    "                        exclude_truncated=False,\n",
    "                        exclude_difficult=False,\n",
    "                        ret=False,\n",
    "                        verbose=True)\n",
    "\n",
    "\n",
    "val_dataset.parse_xml(images_dirs=[varroa_val_images_dir],\n",
    "                        image_set_filenames=[varroa_val_image_set_filename],\n",
    "                        annotations_dirs=[varroa_val_annotations_dir],\n",
    "                        classes=classes,\n",
    "                        include_classes='all',\n",
    "                        exclude_truncated=False,\n",
    "                        exclude_difficult=False,\n",
    "                        ret=False,\n",
    "                        verbose=True)"
   ]
  },
  {
   "cell_type": "code",
   "execution_count": 16,
   "metadata": {},
   "outputs": [],
   "source": [
    "img_height = 300 # Height of the input images\n",
    "img_width = 300  # Width of the input images\n",
    "img_channels = 3 # Number of color channels of the input images\n",
    "intensity_mean = 127.5 # Set this to your preference (maybe `None`). The current settings transform the input pixel values to the interval `[-1,1]`.\n",
    "intensity_range = 127.5 # Set this to your preference (maybe `None`). The current settings transform the input pixel values to the interval `[-1,1]`.\n",
    "mean_color = [208, 202, 220] # The per-channel mean of the images in the dataset. Do not change this value if you're using any of the pre-trained weights.\n",
    "n_classes = 1 # Number of positive classes\n",
    "scales = [0.08, 0.10, 0.12, 0.16, 0.32] # An explicit list of anchor box scaling factors. If this is passed, it will override `min_scale` and `max_scale`.\n",
    "aspect_ratios = [0.5, 1.0, 2.0] # The list of aspect ratios for the anchor boxes\n",
    "two_boxes_for_ar1 = True # Whether or not you want to generate two anchor boxes for aspect ratio 1\n",
    "steps = None # In case you'd like to set the step sizes for the anchor box grids manually; not recommended\n",
    "offsets = None # In case you'd like to set the offsets for the anchor box grids manually; not recommended\n",
    "clip_boxes = False # Whether or not to clip the anchor boxes to lie entirely within the image boundaries\n",
    "variances = [1.0, 1.0, 1.0, 1.0] # The list of variances by which the encoded target coordinates are scaled\n",
    "normalize_coords = True # Whether or not the model is supposed to use coordinates relative to the image size"
   ]
  },
  {
   "cell_type": "code",
   "execution_count": 17,
   "metadata": {},
   "outputs": [],
   "source": [
    "# 1: Build the Keras model\n",
    "\n",
    "K.clear_session() # Clear previous models from memory.\n",
    "\n",
    "model = build_model(image_size=(img_height, img_width, img_channels),\n",
    "                    n_classes=n_classes,\n",
    "                    mode='training',\n",
    "                    l2_regularization=0.0005,\n",
    "                    scales=scales,\n",
    "                    aspect_ratios_global=aspect_ratios,\n",
    "                    aspect_ratios_per_layer=None,\n",
    "                    two_boxes_for_ar1=two_boxes_for_ar1,\n",
    "                    steps=steps,\n",
    "                    offsets=offsets,\n",
    "                    clip_boxes=clip_boxes,\n",
    "                    variances=variances,\n",
    "                    normalize_coords=normalize_coords,\n",
    "                    subtract_mean=intensity_mean,\n",
    "                    divide_by_stddev=intensity_range)\n",
    "\n",
    "# 2: Optional: Load some weights\n",
    "\n",
    "#model.load_weights('./ssd7_weights.h5', by_name=True)\n",
    "\n",
    "# 3: Instantiate an Adam optimizer and the SSD loss function and compile the model\n",
    "\n",
    "adam = Adam(lr=0.001, beta_1=0.9, beta_2=0.999, epsilon=1e-08, decay=0.0)\n",
    "\n",
    "ssd_loss = SSDLoss(neg_pos_ratio=3, alpha=1.0)\n",
    "\n",
    "model.compile(optimizer=adam, loss=ssd_loss.compute_loss)"
   ]
  },
  {
   "cell_type": "code",
   "execution_count": 18,
   "metadata": {},
   "outputs": [
    {
     "name": "stdout",
     "output_type": "stream",
     "text": [
      "Number of images in the training dataset:\t   800\n",
      "Number of images in the validation dataset:\t   150\n"
     ]
    }
   ],
   "source": [
    "# 3: Set the batch size.\n",
    "\n",
    "batch_size = 10\n",
    "\n",
    "# 4: Define the image processing chain.\n",
    "\n",
    "# For the training generator:\n",
    "# data_augmentation_chain = DataAugmentationVariableInputSize(resize_height=img_height,\n",
    "#                                            resize_width=img_width)\n",
    "\n",
    "data_augmentation_chain = SSDDataAugmentation(img_height=img_height,img_width=img_width,\n",
    "                                            background=mean_color)\n",
    "\n",
    "# For the validation generator:\n",
    "resize = Resize(height=img_height, width=img_width)\n",
    "\n",
    "\n",
    "# 5: Instantiate an encoder that can encode ground truth labels into the format needed by the SSD loss function.\n",
    "\n",
    "# The encoder constructor needs the spatial dimensions of the model's predictor layers to create the anchor boxes.\n",
    "predictor_sizes = [model.get_layer('classes4').output_shape[1:3],\n",
    "                   model.get_layer('classes5').output_shape[1:3],\n",
    "                   model.get_layer('classes6').output_shape[1:3],\n",
    "                   model.get_layer('classes7').output_shape[1:3]]\n",
    "\n",
    "ssd_input_encoder = SSDInputEncoder(img_height=img_height,\n",
    "                                    img_width=img_width,\n",
    "                                    n_classes=n_classes,\n",
    "                                    predictor_sizes=predictor_sizes,\n",
    "                                    scales=scales,\n",
    "                                    aspect_ratios_global=aspect_ratios,\n",
    "                                    two_boxes_for_ar1=two_boxes_for_ar1,\n",
    "                                    steps=steps,\n",
    "                                    offsets=offsets,\n",
    "                                    clip_boxes=clip_boxes,\n",
    "                                    variances=variances,\n",
    "                                    matching_type='multi',\n",
    "                                    pos_iou_threshold=0.5,\n",
    "                                    neg_iou_limit=0.3,\n",
    "                                    normalize_coords=normalize_coords)\n",
    "\n",
    "\n",
    "# 6: Create the generator handles that will be passed to Keras' `fit_generator()` function.\n",
    "\n",
    "train_generator = train_dataset.generate(batch_size=batch_size,\n",
    "                                         shuffle=True,\n",
    "                                         transformations=[\n",
    "                                                      data_augmentation_chain],\n",
    "                                         label_encoder=ssd_input_encoder,\n",
    "                                         returns={'processed_images',\n",
    "                                                  'encoded_labels'},\n",
    "                                         keep_images_without_gt=False)\n",
    "\n",
    "val_generator = val_dataset.generate(batch_size=batch_size,\n",
    "                                     shuffle=False,\n",
    "                                     transformations=[\n",
    "                                                      resize],\n",
    "                                     label_encoder=ssd_input_encoder,\n",
    "                                     returns={'processed_images',\n",
    "                                              'encoded_labels'},\n",
    "                                     keep_images_without_gt=False)\n",
    "\n",
    "# Get the number of samples in the training and validations datasets.\n",
    "train_dataset_size = train_dataset.get_dataset_size()\n",
    "val_dataset_size   = val_dataset.get_dataset_size()\n",
    "\n",
    "print(\"Number of images in the training dataset:\\t{:>6}\".format(train_dataset_size))\n",
    "print(\"Number of images in the validation dataset:\\t{:>6}\".format(val_dataset_size))"
   ]
  },
  {
   "cell_type": "code",
   "execution_count": 19,
   "metadata": {},
   "outputs": [
    {
     "name": "stderr",
     "output_type": "stream",
     "text": [
      "C:\\Users\\Ismail-P51\\Anaconda3\\lib\\site-packages\\keras\\callbacks.py:1065: UserWarning: `epsilon` argument is deprecated and will be removed, use `min_delta` instead.\n",
      "  warnings.warn('`epsilon` argument is deprecated and '\n"
     ]
    }
   ],
   "source": [
    "# Define model callbacks.\n",
    "\n",
    "# TODO: Set the filepath under which you want to save the weights.\n",
    "model_checkpoint = ModelCheckpoint(filepath='ssd7_epoch-{epoch:02d}_loss-{loss:.4f}_val_loss-{val_loss:.4f}.h5',\n",
    "                                   monitor='val_loss',\n",
    "                                   verbose=1,\n",
    "                                   save_best_only=True,\n",
    "                                   save_weights_only=False,\n",
    "                                   mode='auto',\n",
    "                                   period=1)\n",
    "\n",
    "csv_logger = CSVLogger(filename='ssd7_training_log.csv',\n",
    "                       separator=',',\n",
    "                       append=True)\n",
    "\n",
    "early_stopping = EarlyStopping(monitor='val_loss',\n",
    "                               min_delta=0.0,\n",
    "                               patience=10,\n",
    "                               verbose=1)\n",
    "\n",
    "reduce_learning_rate = ReduceLROnPlateau(monitor='val_loss',\n",
    "                                         factor=0.2,\n",
    "                                         patience=8,\n",
    "                                         verbose=1,\n",
    "                                         epsilon=0.001,\n",
    "                                         cooldown=0,\n",
    "                                         min_lr=0.00001)\n",
    "\n",
    "callbacks = [model_checkpoint,\n",
    "             csv_logger,\n",
    "             early_stopping,\n",
    "             reduce_learning_rate]"
   ]
  },
  {
   "cell_type": "code",
   "execution_count": null,
   "metadata": {},
   "outputs": [
    {
     "name": "stdout",
     "output_type": "stream",
     "text": [
      "Epoch 1/10\n",
      "220/300 [=====================>........] - ETA: 34:45 - loss: 22.356 - ETA: 20:59 - loss: 20.707 - ETA: 17:17 - loss: 19.036 - ETA: 19:34 - loss: 17.651 - ETA: 17:24 - loss: 16.723 - ETA: 16:43 - loss: 16.030 - ETA: 16:11 - loss: 15.533 - ETA: 16:39 - loss: 14.884 - ETA: 15:54 - loss: 14.523 - ETA: 15:37 - loss: 14.372 - ETA: 16:34 - loss: 13.986 - ETA: 15:45 - loss: 13.644 - ETA: 15:48 - loss: 13.288 - ETA: 15:14 - loss: 12.917 - ETA: 15:12 - loss: 12.550 - ETA: 15:02 - loss: 12.389 - ETA: 14:53 - loss: 12.079 - ETA: 14:45 - loss: 11.820 - ETA: 14:53 - loss: 11.641 - ETA: 14:39 - loss: 11.419 - ETA: 14:46 - loss: 11.217 - ETA: 14:30 - loss: 11.016 - ETA: 14:21 - loss: 10.803 - ETA: 14:15 - loss: 10.608 - ETA: 14:06 - loss: 10.424 - ETA: 14:01 - loss: 10.282 - ETA: 13:50 - loss: 10.153 - ETA: 13:42 - loss: 9.987 - ETA: 13:37 - loss: 9.85 - ETA: 13:29 - loss: 9.70 - ETA: 13:39 - loss: 9.60 - ETA: 13:31 - loss: 9.51 - ETA: 13:36 - loss: 9.42 - ETA: 13:26 - loss: 9.34 - ETA: 13:22 - loss: 9.26 - ETA: 13:15 - loss: 9.16 - ETA: 13:26 - loss: 9.06 - ETA: 13:26 - loss: 8.96 - ETA: 13:29 - loss: 8.86 - ETA: 13:30 - loss: 8.75 - ETA: 13:35 - loss: 8.68 - ETA: 13:38 - loss: 8.60 - ETA: 13:33 - loss: 8.51 - ETA: 13:26 - loss: 8.41 - ETA: 13:20 - loss: 8.36 - ETA: 13:13 - loss: 8.27 - ETA: 13:17 - loss: 8.21 - ETA: 13:15 - loss: 8.14 - ETA: 13:13 - loss: 8.07 - ETA: 13:06 - loss: 8.01 - ETA: 13:02 - loss: 7.95 - ETA: 13:03 - loss: 7.88 - ETA: 12:58 - loss: 7.84 - ETA: 12:56 - loss: 7.78 - ETA: 12:56 - loss: 7.71 - ETA: 12:48 - loss: 7.65 - ETA: 12:39 - loss: 7.61 - ETA: 12:35 - loss: 7.56 - ETA: 12:28 - loss: 7.52 - ETA: 12:24 - loss: 7.47 - ETA: 12:18 - loss: 7.42 - ETA: 12:14 - loss: 7.38 - ETA: 12:11 - loss: 7.33 - ETA: 12:09 - loss: 7.29 - ETA: 12:09 - loss: 7.24 - ETA: 12:06 - loss: 7.19 - ETA: 12:05 - loss: 7.15 - ETA: 12:01 - loss: 7.10 - ETA: 11:56 - loss: 7.06 - ETA: 11:53 - loss: 7.03 - ETA: 11:48 - loss: 7.00 - ETA: 11:42 - loss: 6.97 - ETA: 11:37 - loss: 6.93 - ETA: 11:30 - loss: 6.91 - ETA: 11:27 - loss: 6.87 - ETA: 11:22 - loss: 6.84 - ETA: 11:18 - loss: 6.80 - ETA: 11:13 - loss: 6.78 - ETA: 11:09 - loss: 6.74 - ETA: 11:05 - loss: 6.72 - ETA: 11:00 - loss: 6.69 - ETA: 10:56 - loss: 6.67 - ETA: 10:52 - loss: 6.66 - ETA: 10:48 - loss: 6.63 - ETA: 10:46 - loss: 6.61 - ETA: 10:44 - loss: 6.58 - ETA: 10:43 - loss: 6.56 - ETA: 10:37 - loss: 6.53 - ETA: 10:34 - loss: 6.51 - ETA: 10:33 - loss: 6.49 - ETA: 10:32 - loss: 6.46 - ETA: 10:29 - loss: 6.44 - ETA: 10:26 - loss: 6.42 - ETA: 10:24 - loss: 6.40 - ETA: 10:19 - loss: 6.37 - ETA: 10:15 - loss: 6.35 - ETA: 10:12 - loss: 6.32 - ETA: 10:07 - loss: 6.31 - ETA: 10:05 - loss: 6.28 - ETA: 10:04 - loss: 6.27 - ETA: 10:02 - loss: 6.24 - ETA: 10:00 - loss: 6.22 - ETA: 9:56 - loss: 6.2040 - ETA: 9:52 - loss: 6.188 - ETA: 9:49 - loss: 6.168 - ETA: 9:45 - loss: 6.144 - ETA: 9:43 - loss: 6.122 - ETA: 9:38 - loss: 6.104 - ETA: 9:34 - loss: 6.086 - ETA: 9:31 - loss: 6.066 - ETA: 9:28 - loss: 6.049 - ETA: 9:25 - loss: 6.032 - ETA: 9:21 - loss: 6.011 - ETA: 9:18 - loss: 5.994 - ETA: 9:16 - loss: 5.983 - ETA: 9:12 - loss: 5.964 - ETA: 9:11 - loss: 5.947 - ETA: 9:07 - loss: 5.927 - ETA: 9:04 - loss: 5.909 - ETA: 9:02 - loss: 5.890 - ETA: 8:56 - loss: 5.870 - ETA: 8:53 - loss: 5.852 - ETA: 8:50 - loss: 5.835 - ETA: 8:48 - loss: 5.820 - ETA: 8:45 - loss: 5.803 - ETA: 8:43 - loss: 5.791 - ETA: 8:38 - loss: 5.778 - ETA: 8:34 - loss: 5.763 - ETA: 8:33 - loss: 5.749 - ETA: 8:30 - loss: 5.733 - ETA: 8:27 - loss: 5.720 - ETA: 8:24 - loss: 5.706 - ETA: 8:22 - loss: 5.693 - ETA: 8:20 - loss: 5.678 - ETA: 8:17 - loss: 5.668 - ETA: 8:14 - loss: 5.656 - ETA: 8:10 - loss: 5.641 - ETA: 8:08 - loss: 5.628 - ETA: 8:06 - loss: 5.613 - ETA: 8:02 - loss: 5.604 - ETA: 8:00 - loss: 5.599 - ETA: 7:58 - loss: 5.585 - ETA: 7:54 - loss: 5.577 - ETA: 7:50 - loss: 5.563 - ETA: 7:46 - loss: 5.551 - ETA: 7:43 - loss: 5.539 - ETA: 7:40 - loss: 5.530 - ETA: 7:35 - loss: 5.519 - ETA: 7:32 - loss: 5.506 - ETA: 7:29 - loss: 5.493 - ETA: 7:28 - loss: 5.482 - ETA: 7:24 - loss: 5.474 - ETA: 7:22 - loss: 5.468 - ETA: 7:20 - loss: 5.458 - ETA: 7:16 - loss: 5.448 - ETA: 7:13 - loss: 5.435 - ETA: 7:09 - loss: 5.425 - ETA: 7:06 - loss: 5.415 - ETA: 7:02 - loss: 5.405 - ETA: 7:00 - loss: 5.394 - ETA: 6:56 - loss: 5.385 - ETA: 6:53 - loss: 5.374 - ETA: 6:51 - loss: 5.367 - ETA: 6:48 - loss: 5.356 - ETA: 6:45 - loss: 5.346 - ETA: 6:43 - loss: 5.334 - ETA: 6:40 - loss: 5.324 - ETA: 6:37 - loss: 5.318 - ETA: 6:33 - loss: 5.309 - ETA: 6:30 - loss: 5.298 - ETA: 6:27 - loss: 5.290 - ETA: 6:25 - loss: 5.280 - ETA: 6:22 - loss: 5.273 - ETA: 6:21 - loss: 5.265 - ETA: 6:18 - loss: 5.261 - ETA: 6:15 - loss: 5.253 - ETA: 6:12 - loss: 5.247 - ETA: 6:08 - loss: 5.239 - ETA: 6:06 - loss: 5.231 - ETA: 6:04 - loss: 5.223 - ETA: 6:01 - loss: 5.215 - ETA: 5:58 - loss: 5.209 - ETA: 5:54 - loss: 5.199 - ETA: 5:51 - loss: 5.190 - ETA: 5:49 - loss: 5.180 - ETA: 5:46 - loss: 5.171 - ETA: 5:42 - loss: 5.162 - ETA: 5:39 - loss: 5.152 - ETA: 5:35 - loss: 5.146 - ETA: 5:33 - loss: 5.141 - ETA: 5:31 - loss: 5.133 - ETA: 5:28 - loss: 5.126 - ETA: 5:24 - loss: 5.121 - ETA: 5:22 - loss: 5.112 - ETA: 5:19 - loss: 5.108 - ETA: 5:16 - loss: 5.101 - ETA: 5:13 - loss: 5.095 - ETA: 5:09 - loss: 5.088 - ETA: 5:06 - loss: 5.081 - ETA: 5:03 - loss: 5.072 - ETA: 5:00 - loss: 5.066 - ETA: 4:57 - loss: 5.057 - ETA: 4:54 - loss: 5.050 - ETA: 4:51 - loss: 5.042 - ETA: 4:48 - loss: 5.035 - ETA: 4:45 - loss: 5.026 - ETA: 4:42 - loss: 5.021 - ETA: 4:39 - loss: 5.014 - ETA: 4:36 - loss: 5.007 - ETA: 4:33 - loss: 4.999 - ETA: 4:30 - loss: 4.992 - ETA: 4:27 - loss: 4.984 - ETA: 4:24 - loss: 4.990 - ETA: 4:21 - loss: 4.984 - ETA: 4:18 - loss: 4.978 - ETA: 4:15 - loss: 4.970 - ETA: 4:11 - loss: 4.962 - ETA: 4:08 - loss: 4.955 - ETA: 4:05 - loss: 4.949 - ETA: 4:02 - loss: 4.9425"
     ]
    }
   ],
   "source": [
    "# TODO: Set the epochs to train for.\n",
    "# If you're resuming a previous training, set `initial_epoch` and `final_epoch` accordingly.\n",
    "initial_epoch   = 0\n",
    "final_epoch     = 10\n",
    "steps_per_epoch = 300\n",
    "\n",
    "history = model.fit_generator(generator=train_generator,\n",
    "                              steps_per_epoch=steps_per_epoch,\n",
    "                              epochs=final_epoch,\n",
    "                              callbacks=callbacks,\n",
    "                              validation_data=val_generator,\n",
    "                              validation_steps=ceil(val_dataset_size/batch_size),\n",
    "                              initial_epoch=initial_epoch)"
   ]
  },
  {
   "cell_type": "code",
   "execution_count": null,
   "metadata": {},
   "outputs": [],
   "source": [
    "plt.figure(figsize=(20,12))\n",
    "plt.plot(history.history['loss'], label='loss')\n",
    "plt.plot(history.history['val_loss'], label='val_loss')\n",
    "plt.legend(loc='upper right', prop={'size': 24});"
   ]
  },
  {
   "cell_type": "code",
   "execution_count": null,
   "metadata": {},
   "outputs": [],
   "source": [
    "# 1: Set the generator for the predictions.\n",
    "\n",
    "predict_generator = val_dataset.generate(batch_size=1,\n",
    "                                         shuffle=True,\n",
    "                                         transformations=[convert_to_3_channels,\n",
    "                                                          resize],\n",
    "                                         label_encoder=None,\n",
    "                                         returns={'processed_images',\n",
    "                                                  'filenames',\n",
    "                                                  'inverse_transform',\n",
    "                                                  'original_images',\n",
    "                                                  'original_labels'},\n",
    "                                         keep_images_without_gt=False)"
   ]
  },
  {
   "cell_type": "code",
   "execution_count": null,
   "metadata": {},
   "outputs": [],
   "source": [
    "# 2: Generate samples.\n",
    "\n",
    "batch_images, batch_filenames, batch_inverse_transforms, batch_original_images, batch_original_labels = next(predict_generator)\n",
    "\n",
    "i = 0 # Which batch item to look at\n",
    "\n",
    "print(\"Image:\", batch_filenames[i])\n",
    "print()\n",
    "print(\"Ground truth boxes:\\n\")\n",
    "print(np.array(batch_original_labels[i]))"
   ]
  },
  {
   "cell_type": "code",
   "execution_count": null,
   "metadata": {},
   "outputs": [],
   "source": [
    "# 3: Make predictions.\n",
    "\n",
    "y_pred = model.predict(batch_images)"
   ]
  },
  {
   "cell_type": "code",
   "execution_count": null,
   "metadata": {},
   "outputs": [],
   "source": [
    "# 4: Decode the raw prediction `y_pred`\n",
    "\n",
    "y_pred_decoded = decode_detections(y_pred,\n",
    "                                   confidence_thresh=0.3,\n",
    "                                   iou_threshold=0.1,\n",
    "                                   top_k=200,\n",
    "                                   normalize_coords=normalize_coords,\n",
    "                                   img_height=img_height,\n",
    "                                   img_width=img_width)\n",
    "\n",
    "np.set_printoptions(precision=2, suppress=True, linewidth=90)\n",
    "print(\"Predicted boxes:\\n\")\n",
    "print('   class   conf xmin   ymin   xmax   ymax')\n",
    "print(y_pred_decoded[i])"
   ]
  },
  {
   "cell_type": "code",
   "execution_count": null,
   "metadata": {},
   "outputs": [],
   "source": [
    "# 5: Convert the predictions for the original image.\n",
    "\n",
    "y_pred_decoded_inv = apply_inverse_transforms(y_pred_decoded, batch_inverse_transforms)\n",
    "\n",
    "np.set_printoptions(precision=2, suppress=True, linewidth=90)\n",
    "print(\"Predicted boxes:\\n\")\n",
    "print('   class   conf xmin   ymin   xmax   ymax')\n",
    "print(y_pred_decoded_inv[i])"
   ]
  },
  {
   "cell_type": "code",
   "execution_count": null,
   "metadata": {},
   "outputs": [],
   "source": [
    "# 5: Draw the predicted boxes onto the image\n",
    "\n",
    "# Set the colors for the bounding boxes\n",
    "colors = plt.cm.hsv(np.linspace(0, 1, n_classes+1)).tolist()\n",
    "classes = ['background',\n",
    "           'Varroa']\n",
    "plt.figure(figsize=(20,12))\n",
    "plt.imshow(batch_original_images[i])\n",
    "\n",
    "current_axis = plt.gca()\n",
    "\n",
    "for box in batch_original_labels[i]:\n",
    "    xmin = box[1]\n",
    "    ymin = box[2]\n",
    "    xmax = box[3]\n",
    "    ymax = box[4]\n",
    "    label = '{}'.format(classes[int(box[0])])\n",
    "    current_axis.add_patch(plt.Rectangle((xmin, ymin), xmax-xmin, ymax-ymin, color='green', fill=False, linewidth=2))  \n",
    "    current_axis.text(xmin, ymin, label, size='x-large', color='white', bbox={'facecolor':'green', 'alpha':1.0})\n",
    "\n",
    "for box in y_pred_decoded_inv[i]:\n",
    "    xmin = box[2]\n",
    "    ymin = box[3]\n",
    "    xmax = box[4]\n",
    "    ymax = box[5]\n",
    "    color = colors[int(box[0])]\n",
    "    label = '{}: {:.2f}'.format(classes[int(box[0])], box[1])\n",
    "    current_axis.add_patch(plt.Rectangle((xmin, ymin), xmax-xmin, ymax-ymin, color=color, fill=False, linewidth=2))  \n",
    "    current_axis.text(xmin, ymin, label, size='x-large', color='white', bbox={'facecolor':color, 'alpha':1.0})"
   ]
  },
  {
   "cell_type": "markdown",
   "metadata": {},
   "source": [
    "Need to know the fucking parameters on the images"
   ]
  },
  {
   "cell_type": "code",
   "execution_count": null,
   "metadata": {},
   "outputs": [],
   "source": [
    "print(val_ic[5].shape)\n",
    "print(val_xmls[5])\n",
    "fig, ax = plt.subplots()\n",
    "plt.imshow(val_ic[5])  \n",
    "rect = patches.Rectangle((val_xmls[5][0]['bbox'][0], val_xmls[5][0]['bbox'][1]), val_xmls[5][0]['bbox'][2], val_xmls[5][0]['bbox'][3],\n",
    "                linewidth=1,edgecolor='r',facecolor='none')\n",
    "ax.add_patch(rect)"
   ]
  },
  {
   "cell_type": "code",
   "execution_count": null,
   "metadata": {},
   "outputs": [],
   "source": [
    "# Reshape all the images to 1024x1024 and conserv aspect ratio\n",
    "from skimage.transform import resize\n",
    "def reshape_img_bb(img,bbox_list):\n",
    "    DIM_IMG = 1024\n",
    "    \n",
    "    ratio_x = DIM_IMG/img.shape[1]\n",
    "    ratio_y = DIM_IMG/img.shape[0]\n",
    "    result_img = resize(img,(DIM_IMG,DIM_IMG),anti_aliasing=True)\n",
    "    result_boxes = []\n",
    "    if 0 != len(bbox_list):\n",
    "        for elem in bbox_list:\n",
    "            new_x = int(elem['bbox'][0] * ratio_x)\n",
    "            new_y = int(elem['bbox'][1] * ratio_y)\n",
    "            new_w = int(elem['bbox'][2] * ratio_x)\n",
    "            new_h = int(elem['bbox'][3] * ratio_x)\n",
    "            result_boxes.append((new_x,new_y,new_w,new_h))\n",
    "            \n",
    "    return (result_img,result_boxes)"
   ]
  },
  {
   "cell_type": "markdown",
   "metadata": {},
   "source": [
    "Fucking validate the method"
   ]
  },
  {
   "cell_type": "code",
   "execution_count": null,
   "metadata": {},
   "outputs": [],
   "source": [
    "ax = plt.subplot(121)\n",
    "for elem in tst_xmls[2]:\n",
    "    rect = patches.Rectangle((elem['bbox'][0], elem['bbox'][1]), elem['bbox'][2], elem['bbox'][3],\n",
    "                    linewidth=1,edgecolor='r',facecolor='none')\n",
    "    ax.add_patch(rect)\n",
    "ax.imshow(tst_ic[2])\n",
    "\n",
    "ax = plt.subplot(122)\n",
    "print(tst_ic[2].shape)\n",
    "print(tst_xmls[2])\n",
    "n_img,n_boxes = reshape_img_bb(tst_ic[2],tst_xmls[2])\n",
    "\n",
    "for elem in n_boxes:\n",
    "    rect = patches.Rectangle((elem[0], elem[1]), elem[2], elem[3],\n",
    "                    linewidth=1,edgecolor='r',facecolor='none')\n",
    "    ax.add_patch(rect)\n",
    "ax.imshow(n_img)"
   ]
  },
  {
   "cell_type": "markdown",
   "metadata": {},
   "source": [
    "Add SDD7 support and make it fucking work"
   ]
  },
  {
   "cell_type": "code",
   "execution_count": null,
   "metadata": {},
   "outputs": [],
   "source": []
  },
  {
   "cell_type": "code",
   "execution_count": null,
   "metadata": {},
   "outputs": [],
   "source": [
    "model = Sequential([\n",
    "        Dense(200, input_dim=64), \n",
    "        Activation('relu'), \n",
    "        Dropout(0.2), \n",
    "        Dense(4)\n",
    "    ])\n",
    "model.compile('adadelta', 'mse')"
   ]
  },
  {
   "cell_type": "markdown",
   "metadata": {},
   "source": [
    "## Challenge\n",
    "\n",
    "You can generate a json submission file by using the function ''**generate_pred_json**''. This prediction file can be uploaded online for evaluation (Please refer to section 3 of the project description for more details)."
   ]
  },
  {
   "cell_type": "code",
   "execution_count": null,
   "metadata": {},
   "outputs": [],
   "source": [
    "import numpy as np\n",
    "import json\n",
    "\n",
    "def generate_pred_json(data, tag='baseline'):\n",
    "    '''\n",
    "    Input\n",
    "    - data: Is a dictionary d, such that:\n",
    "          d = { \n",
    "              \"ID_1\": [], \n",
    "              \"ID_2\": [[x_21, y_21, w_21, h_21], [x_22, y_22, w_22, h_22]], \n",
    "              ... \n",
    "              \"ID_i\": [[x_i1, y_i1, w_i1, h_i1], ..., [x_iJ, y_iJ, w_iJ, h_iJ]],\n",
    "              ... \n",
    "              \"ID_N\": [[x_N1, y_N1, w_N1, h_N1]],\n",
    "          }\n",
    "          where ID is the string id of the image (e.i. 5a05e86fa07d56baef59b1cb_32.00px_1) and the value the Kx4 \n",
    "          array of intergers for the K predicted bounding boxes (e.g. [[170, 120, 15, 15]])\n",
    "    - tag: (optional) string that will be added to the name of the json file.\n",
    "    Output\n",
    "      Create a json file, \"prediction_[tag].json\", conatining the prediction to EvalAI format.\n",
    "    '''\n",
    "    unvalid_key = []\n",
    "    _data = data.copy()\n",
    "    for key, value in _data.items():\n",
    "        try:\n",
    "            # Try to convert to numpy array and cast as closest int\n",
    "            print(key)\n",
    "            v = np.around(np.array(value)).astype(int)\n",
    "            # Check is it is a 2d array with 4 columns (x,y,w,h)\n",
    "            if v.ndim != 2 or v.shape[1] != 4:\n",
    "                unvalid_key.append(key)\n",
    "            # Id must be a string\n",
    "            if not isinstance(key, str):\n",
    "                unvalid_key.append(key)\n",
    "            _data[key] = v.tolist()\n",
    "        # Deal with not consistant array size and empty predictions\n",
    "        except (ValueError, TypeError):\n",
    "            unvalid_key.append(key)\n",
    "    # Remove unvalid key from dictionnary\n",
    "    for key in unvalid_key: del _data[key]\n",
    "    \n",
    "    with open('prediction_{}.json'.format(tag), 'w') as outfile:\n",
    "        json.dump(_data, outfile)"
   ]
  },
  {
   "cell_type": "code",
   "execution_count": null,
   "metadata": {},
   "outputs": [],
   "source": [
    "#Your code"
   ]
  }
 ],
 "metadata": {
  "anaconda-cloud": {},
  "kernelspec": {
   "display_name": "Python 3",
   "language": "python",
   "name": "python3"
  },
  "language_info": {
   "codemirror_mode": {
    "name": "ipython",
    "version": 3
   },
   "file_extension": ".py",
   "mimetype": "text/x-python",
   "name": "python",
   "nbconvert_exporter": "python",
   "pygments_lexer": "ipython3",
   "version": "3.7.0"
  }
 },
 "nbformat": 4,
 "nbformat_minor": 1
}
